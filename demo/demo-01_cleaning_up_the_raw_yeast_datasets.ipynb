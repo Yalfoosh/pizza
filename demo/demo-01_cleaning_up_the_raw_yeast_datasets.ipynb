{
 "cells": [
  {
   "cell_type": "markdown",
   "metadata": {},
   "source": [
    "# Pizza: Cleaning up the raw yeast datasets"
   ]
  },
  {
   "cell_type": "markdown",
   "metadata": {},
   "source": [
    "## Setting up"
   ]
  },
  {
   "cell_type": "code",
   "execution_count": 1,
   "metadata": {},
   "outputs": [],
   "source": [
    "import os\n",
    "\n",
    "CD_KEY = \"--DEMO01_IN_ROOT\""
   ]
  },
  {
   "cell_type": "code",
   "execution_count": 2,
   "metadata": {},
   "outputs": [],
   "source": [
    "if CD_KEY not in os.environ:\n",
    "    os.environ[CD_KEY] = \"false\""
   ]
  },
  {
   "cell_type": "code",
   "execution_count": 3,
   "metadata": {},
   "outputs": [
    {
     "name": "stdout",
     "output_type": "stream",
     "text": [
      "/mnt/data/projekti/osobno/pizza\n"
     ]
    }
   ],
   "source": [
    "if (\n",
    "    CD_KEY not in os.environ\n",
    "    or os.environ[CD_KEY] is None\n",
    "    or len(os.environ[CD_KEY]) == 0\n",
    "    or os.environ[CD_KEY] == \"false\"\n",
    "):\n",
    "    %cd ..\n",
    "else:\n",
    "    print(os.getcwd())\n",
    "    \n",
    "os.environ[CD_KEY] = \"true\""
   ]
  },
  {
   "cell_type": "markdown",
   "metadata": {},
   "source": [
    "### Packages"
   ]
  },
  {
   "cell_type": "code",
   "execution_count": 4,
   "metadata": {},
   "outputs": [],
   "source": [
    "import csv\n",
    "\n",
    "from src.yeast_prediction.preprocessing.dataset import (\n",
    "    preprocess_raw_yeast_dataset\n",
    ")"
   ]
  },
  {
   "cell_type": "markdown",
   "metadata": {},
   "source": [
    "### Constants"
   ]
  },
  {
   "cell_type": "code",
   "execution_count": 5,
   "metadata": {},
   "outputs": [],
   "source": [
    "source_file_paths = (\n",
    "    \"data/yeast_prediction/20130807_yeast-raw.tsv\",\n",
    "    \"data/yeast_prediction/20180110_yeast-raw.tsv\"\n",
    ")\n",
    "source_delimiters = (\n",
    "    \"\\t\",\n",
    "    \"\\t\"\n",
    ")\n",
    "\n",
    "destination_file_paths = (\n",
    "    \"data/yeast_prediction/20130807_yeast-preprocessed.tsv\",\n",
    "    \"data/yeast_prediction/20180110_yeast-preprocessed.tsv\"\n",
    ")\n",
    "destination_delimiters = (\n",
    "    \"\\t\",\n",
    "    \"\\t\"\n",
    ")"
   ]
  },
  {
   "cell_type": "markdown",
   "metadata": {},
   "source": [
    "## Functionality"
   ]
  },
  {
   "cell_type": "markdown",
   "metadata": {},
   "source": [
    "Be careful: this will overwrite any existing files at the destination."
   ]
  },
  {
   "cell_type": "code",
   "execution_count": 6,
   "metadata": {},
   "outputs": [],
   "source": [
    "for (\n",
    "    source_file_path,\n",
    "    source_delimiter,\n",
    "    destination_file_path,\n",
    "    destination_delimiter\n",
    ") in zip(\n",
    "    source_file_paths,\n",
    "    source_delimiters,\n",
    "    destination_file_paths,\n",
    "    destination_delimiters\n",
    "):\n",
    "    new_rows = preprocess_raw_yeast_dataset(\n",
    "        source_file_path, delimiter=source_delimiter\n",
    "    )\n",
    "\n",
    "    with open(destination_file_path, mode=\"w+\") as file:\n",
    "        writer = csv.writer(file, delimiter=destination_delimiter)\n",
    "        writer.writerows(new_rows)"
   ]
  },
  {
   "cell_type": "markdown",
   "metadata": {},
   "source": [
    "## Examples"
   ]
  },
  {
   "cell_type": "code",
   "execution_count": 7,
   "metadata": {},
   "outputs": [
    {
     "name": "stdout",
     "output_type": "stream",
     "text": [
      "First 5 entries of data/yeast_prediction/20130807_yeast-preprocessed.tsv:\n",
      "\t['temperature_kelvin', 'cake_yeast_percentage', 'fermentation_hours']\n",
      "\t['274.81666666666666', '0.01', '2731']\n",
      "\t['274.81666666666666', '0.02', '1357']\n",
      "\t['274.81666666666666', '0.03', '902']\n",
      "\t['274.81666666666666', '0.05', '538']\n",
      "\n",
      "First 5 entries of data/yeast_prediction/20180110_yeast-preprocessed.tsv:\n",
      "\t['temperature_kelvin', 'cake_yeast_percentage', 'fermentation_hours']\n",
      "\t['274.81666666666666', '0.3', '167']\n",
      "\t['274.81666666666666', '0.4', '136']\n",
      "\t['274.81666666666666', '0.5', '115']\n",
      "\t['274.81666666666666', '0.6', '101']\n",
      "\n"
     ]
    }
   ],
   "source": [
    "for destination_file_path, delimiter in zip(\n",
    "    destination_file_paths, destination_delimiters\n",
    "):\n",
    "    print(f\"First 5 entries of {destination_file_path}:\")\n",
    "    \n",
    "    with open(destination_file_path) as file:\n",
    "        reader = csv.reader(\n",
    "            file, delimiter=destination_delimiter\n",
    "        )\n",
    "        \n",
    "        for i in range(5):\n",
    "            try:\n",
    "                print(f\"\\t{next(reader)}\")\n",
    "            except StopIteration:\n",
    "                break\n",
    "                \n",
    "        print()"
   ]
  }
 ],
 "metadata": {
  "kernelspec": {
   "display_name": "pizza",
   "language": "python",
   "name": "pizza"
  },
  "language_info": {
   "codemirror_mode": {
    "name": "ipython",
    "version": 3
   },
   "file_extension": ".py",
   "mimetype": "text/x-python",
   "name": "python",
   "nbconvert_exporter": "python",
   "pygments_lexer": "ipython3",
   "version": "3.8.5"
  }
 },
 "nbformat": 4,
 "nbformat_minor": 4
}
